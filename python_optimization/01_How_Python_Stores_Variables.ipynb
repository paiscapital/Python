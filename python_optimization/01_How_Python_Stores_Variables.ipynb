{
 "cells": [
  {
   "cell_type": "code",
   "execution_count": 2,
   "id": "8ae4c334-1df6-48cc-bb87-d3542113f087",
   "metadata": {},
   "outputs": [],
   "source": [
    "import gc"
   ]
  },
  {
   "cell_type": "markdown",
   "id": "96150e0b-5081-4e69-92ae-a7336519fb8f",
   "metadata": {},
   "source": [
    "# How python stores variables"
   ]
  },
  {
   "cell_type": "markdown",
   "id": "dce9a269-2abb-4da0-9c2f-534dbb58cfde",
   "metadata": {},
   "source": [
    "\n",
    "```\n",
    "# name-to-object mapping\n",
    "x = 50\n",
    "id(x) # x -> object(50) address in memory\n",
    "y = x \n",
    "print(f\"object({y}) is the same as object({x}): {id(y) == id(x)}\")\n",
    "# True\n",
    "```"
   ]
  },
  {
   "cell_type": "markdown",
   "id": "9a72077a-b515-41d6-8822-ee7b2a0d30fe",
   "metadata": {},
   "source": [
    "Everything in python is an object:\n",
    "> type() defines what kind object it is ```int, bool, str```  \n",
    "> id() is a unique identifier for the object (memory address)  \n",
    "> value/data is the actual content\n",
    "  \n",
    "Python have mutable & immutable objects:\n",
    "> Mutable = Can be change after creation & modify the object in place without create new.  \n",
    "> Immutable = Cant be change after creation & any modification create new address in memory  \n",
    "\n",
    "| Mutable | Immutable |\n",
    "|---------|-----------|\n",
    "| list    | int       |\n",
    "| dict    | float     |\n",
    "| set     | complex   |\n",
    "| bytearray| bool     |\n",
    "| class    | str      |\n",
    "| instances | tuple   |\n",
    "| - | frozenset       |\n",
    "| - | bytes           |"
   ]
  },
  {
   "cell_type": "markdown",
   "id": "462067f3-c5be-4240-96fd-ad7aa875d562",
   "metadata": {},
   "source": [
    "In Immutable situation:\n",
    "```\n",
    "x = 60\n",
    "y = x\n",
    "y += 5 # new address because int is immutable\n",
    "```\n",
    "this will make y = 65 & x = 60. because the y make the new address\n",
    "example: ```y = x + 5``` \n",
    "\n",
    "In Mutable situation:\n",
    "```\n",
    "x = [1,2,3]\n",
    "y = x\n",
    "y += [4] # still the same address even got modify\n",
    "```\n",
    "x & y value and address will be the same."
   ]
  },
  {
   "cell_type": "code",
   "execution_count": null,
   "id": "ae9574e0-284c-479d-8b24-9805ed084012",
   "metadata": {},
   "outputs": [],
   "source": []
  },
  {
   "cell_type": "markdown",
   "id": "c9966d5a-8232-4775-9116-6057ffdcd078",
   "metadata": {},
   "source": [
    "Python Namespace Type:\n",
    "> Local = inside function  \n",
    "> Enclosing = outer for nested func  \n",
    "> Global = script level\n",
    "> Builtin = built-in functions & exceptions\n",
    "\n",
    "Local vs Global \n",
    "```\n",
    "x = 50\n",
    "def global_func():\n",
    "    x = 5\n",
    "    print(x)\n",
    "global_func() # 5 because it will print the local func x\n",
    "print(x) # 50 becase it will print the script level variable\n",
    "```\n",
    "\n",
    "Enclosing\n",
    "```\n",
    "def outer():\n",
    "    x = 57\n",
    "    def nested_func():\n",
    "        print(x) # it will show 57 or x value\n",
    "    nested_func()\n",
    "outer()\n",
    "```\n",
    "\n",
    "Built-in \n",
    "```\n",
    "x = [0,1,3]\n",
    "def count_(x):\n",
    "    print(len(x)) # len is built in functions\n",
    "count_(x)\n",
    "```"
   ]
  },
  {
   "cell_type": "code",
   "execution_count": null,
   "id": "b9ff9e78-b4e7-404b-8a80-50daf1d5947d",
   "metadata": {},
   "outputs": [],
   "source": []
  },
  {
   "cell_type": "markdown",
   "id": "753a3781-29ef-4e79-9e7d-a7ceb0890a48",
   "metadata": {},
   "source": [
    "Memory Management\n",
    "> Reference counting = tracks how many references/names point to an object  \n",
    "> Garbage collector = handles cyclic reference\n",
    "\n",
    "Reference counting:\n",
    "```\n",
    "import sys\n",
    "\n",
    "x = [6,5,8]\n",
    "sys.getrefcount(x) # 2\n",
    "b = x\n",
    "sys.getrefcount(x) # 3\n",
    "```\n",
    "it will increase as many as reference point to the object\n",
    "But in specific case:\n",
    "```\n",
    "import sys\n",
    "\n",
    "x = 6\n",
    "sys.getrefcount(x) # it will return large number\n",
    "```\n",
    "why its return large number? this due to python optimization system like ```integer catching```.\n",
    "this system make python save the reference for specific number and use it in python interpreter\n",
    "\n",
    "\n",
    "Garbage Collector:\n",
    "```\n",
    "import weakref\n",
    "\n",
    "\n",
    "class mys:\n",
    "   pass\n",
    "obj = mys()\n",
    "ref_still_exist = weakref.ref(obj) \n",
    "# to check if the reference still exist\n",
    "```\n",
    "\n"
   ]
  },
  {
   "cell_type": "markdown",
   "id": "16036fe9-ba6d-43e9-bbff-c9fc91d402b5",
   "metadata": {},
   "source": [
    "```\n",
    "print(f\"mys func: {obj}\\ncatched reference: {ref_still_exist}\")\n",
    "\n",
    "del obj\n",
    "print(ref_still_exist) \n",
    "# show the reference still exist even after got del\n",
    "gc.collect() # force GC\n",
    "\n",
    "print(ref_still_exist) \n",
    "# None, already gone\n",
    "```"
   ]
  },
  {
   "cell_type": "code",
   "execution_count": null,
   "id": "12c3d523-2879-46c9-8d5d-c69a0cfbf3e9",
   "metadata": {},
   "outputs": [],
   "source": []
  }
 ],
 "metadata": {
  "kernelspec": {
   "display_name": "Python 3 (ipykernel)",
   "language": "python",
   "name": "python3"
  },
  "language_info": {
   "codemirror_mode": {
    "name": "ipython",
    "version": 3
   },
   "file_extension": ".py",
   "mimetype": "text/x-python",
   "name": "python",
   "nbconvert_exporter": "python",
   "pygments_lexer": "ipython3",
   "version": "3.12.11"
  }
 },
 "nbformat": 4,
 "nbformat_minor": 5
}
